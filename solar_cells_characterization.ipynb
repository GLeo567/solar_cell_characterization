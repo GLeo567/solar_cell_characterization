{
 "cells": [
  {
   "attachments": {},
   "cell_type": "markdown",
   "metadata": {},
   "source": [
    "# ***Solar Cells Characterization in darkness and under light***  \n",
    "The measurements are located in \"Practice No 6.txt\" file.\n",
    "They were separated in different files to ease their analysis:\n",
    "1. \"I_V_darkness.txt\" corresponds to the cell in darkness\n",
    "2. \"I_V_light.txt\" corresponds to the cell under light  \n",
    "\n",
    "The material of the solar cell is Si with an area of $0.16 cm^2$ and the characterization was made with a solar simulator with a AM1.5 filter at a radiation intensity of $100\\frac{mW}{cm^2}$ and at a room temperature of $25°C$.   \n",
    "We will study the electric properties of this cell such as:  \n",
    "* Saturation current $I_{S}$\n",
    "* Ideality Factor $n$\n",
    "* Short-circuit current $I_{SC}$\n",
    "* Open-circuit Voltage $V_{OC}$\n",
    "* Maximum Power $P_{mp}$\n",
    "* Fill Factor $FF$  \n",
    "* Efficiency of energy conversion $η$\n",
    "* Characteristic Resistance $R_{CH}$"
   ]
  },
  {
   "attachments": {},
   "cell_type": "markdown",
   "metadata": {},
   "source": [
    "## Loading data"
   ]
  },
  {
   "cell_type": "code",
   "execution_count": 1,
   "metadata": {},
   "outputs": [],
   "source": [
    "import pandas as pd\n",
    "import matplotlib.pyplot as plt\n",
    "import seaborn as sns\n",
    "import plotly.express as px\n",
    "import numpy as np\n",
    "from scipy.stats import linregress\n",
    "from scipy import constants\n",
    "from matplotlib.patches import Rectangle"
   ]
  },
  {
   "attachments": {},
   "cell_type": "markdown",
   "metadata": {},
   "source": [
    "Loading the measurements in darkness:"
   ]
  },
  {
   "cell_type": "code",
   "execution_count": 2,
   "metadata": {},
   "outputs": [
    {
     "data": {
      "text/html": [
       "<div>\n",
       "<style scoped>\n",
       "    .dataframe tbody tr th:only-of-type {\n",
       "        vertical-align: middle;\n",
       "    }\n",
       "\n",
       "    .dataframe tbody tr th {\n",
       "        vertical-align: top;\n",
       "    }\n",
       "\n",
       "    .dataframe thead th {\n",
       "        text-align: right;\n",
       "    }\n",
       "</style>\n",
       "<table border=\"1\" class=\"dataframe\">\n",
       "  <thead>\n",
       "    <tr style=\"text-align: right;\">\n",
       "      <th></th>\n",
       "      <th>Voltage (V)</th>\n",
       "      <th>Current (A)</th>\n",
       "      <th>In</th>\n",
       "    </tr>\n",
       "  </thead>\n",
       "  <tbody>\n",
       "    <tr>\n",
       "      <th>0</th>\n",
       "      <td>-0.7000</td>\n",
       "      <td>-1.135000e-07</td>\n",
       "      <td>darkness</td>\n",
       "    </tr>\n",
       "    <tr>\n",
       "      <th>1</th>\n",
       "      <td>-0.6858</td>\n",
       "      <td>-1.123000e-07</td>\n",
       "      <td>darkness</td>\n",
       "    </tr>\n",
       "    <tr>\n",
       "      <th>2</th>\n",
       "      <td>-0.6717</td>\n",
       "      <td>-1.124000e-07</td>\n",
       "      <td>darkness</td>\n",
       "    </tr>\n",
       "    <tr>\n",
       "      <th>3</th>\n",
       "      <td>-0.6576</td>\n",
       "      <td>-1.129000e-07</td>\n",
       "      <td>darkness</td>\n",
       "    </tr>\n",
       "    <tr>\n",
       "      <th>4</th>\n",
       "      <td>-0.6434</td>\n",
       "      <td>-1.118000e-07</td>\n",
       "      <td>darkness</td>\n",
       "    </tr>\n",
       "    <tr>\n",
       "      <th>...</th>\n",
       "      <td>...</td>\n",
       "      <td>...</td>\n",
       "      <td>...</td>\n",
       "    </tr>\n",
       "    <tr>\n",
       "      <th>95</th>\n",
       "      <td>0.6436</td>\n",
       "      <td>9.036000e-03</td>\n",
       "      <td>darkness</td>\n",
       "    </tr>\n",
       "    <tr>\n",
       "      <th>96</th>\n",
       "      <td>0.6577</td>\n",
       "      <td>1.139000e-02</td>\n",
       "      <td>darkness</td>\n",
       "    </tr>\n",
       "    <tr>\n",
       "      <th>97</th>\n",
       "      <td>0.6718</td>\n",
       "      <td>1.419000e-02</td>\n",
       "      <td>darkness</td>\n",
       "    </tr>\n",
       "    <tr>\n",
       "      <th>98</th>\n",
       "      <td>0.6860</td>\n",
       "      <td>1.750000e-02</td>\n",
       "      <td>darkness</td>\n",
       "    </tr>\n",
       "    <tr>\n",
       "      <th>99</th>\n",
       "      <td>0.7001</td>\n",
       "      <td>2.133000e-02</td>\n",
       "      <td>darkness</td>\n",
       "    </tr>\n",
       "  </tbody>\n",
       "</table>\n",
       "<p>100 rows × 3 columns</p>\n",
       "</div>"
      ],
      "text/plain": [
       "    Voltage (V)   Current (A)        In\n",
       "0       -0.7000 -1.135000e-07  darkness\n",
       "1       -0.6858 -1.123000e-07  darkness\n",
       "2       -0.6717 -1.124000e-07  darkness\n",
       "3       -0.6576 -1.129000e-07  darkness\n",
       "4       -0.6434 -1.118000e-07  darkness\n",
       "..          ...           ...       ...\n",
       "95       0.6436  9.036000e-03  darkness\n",
       "96       0.6577  1.139000e-02  darkness\n",
       "97       0.6718  1.419000e-02  darkness\n",
       "98       0.6860  1.750000e-02  darkness\n",
       "99       0.7001  2.133000e-02  darkness\n",
       "\n",
       "[100 rows x 3 columns]"
      ]
     },
     "execution_count": 2,
     "metadata": {},
     "output_type": "execute_result"
    }
   ],
   "source": [
    "d_df = pd.read_csv(\n",
    "    \"I_V_curve_darkness.txt\",\n",
    "    sep=\"\\t\", header=None,\n",
    "    names=[\"Voltaje (Volts)\", \"Corriente(Amperes)\"],\n",
    "    skiprows=1\n",
    ")\n",
    "\n",
    "d_df = d_df.rename(columns={\"Voltaje (Volts)\": \"Voltage (V)\", \"Corriente(Amperes)\": \"Current (A)\"})\n",
    "d_df.loc[:, \"In\"] = \"darkness\"\n",
    "d_df"
   ]
  },
  {
   "attachments": {},
   "cell_type": "markdown",
   "metadata": {},
   "source": [
    "Loading the measurements under light:"
   ]
  },
  {
   "cell_type": "code",
   "execution_count": 3,
   "metadata": {},
   "outputs": [
    {
     "data": {
      "text/html": [
       "<div>\n",
       "<style scoped>\n",
       "    .dataframe tbody tr th:only-of-type {\n",
       "        vertical-align: middle;\n",
       "    }\n",
       "\n",
       "    .dataframe tbody tr th {\n",
       "        vertical-align: top;\n",
       "    }\n",
       "\n",
       "    .dataframe thead th {\n",
       "        text-align: right;\n",
       "    }\n",
       "</style>\n",
       "<table border=\"1\" class=\"dataframe\">\n",
       "  <thead>\n",
       "    <tr style=\"text-align: right;\">\n",
       "      <th></th>\n",
       "      <th>Voltage (V)</th>\n",
       "      <th>Current (A)</th>\n",
       "      <th>In</th>\n",
       "    </tr>\n",
       "  </thead>\n",
       "  <tbody>\n",
       "    <tr>\n",
       "      <th>0</th>\n",
       "      <td>-0.7000</td>\n",
       "      <td>-0.004104</td>\n",
       "      <td>light</td>\n",
       "    </tr>\n",
       "    <tr>\n",
       "      <th>1</th>\n",
       "      <td>-0.6858</td>\n",
       "      <td>-0.004110</td>\n",
       "      <td>light</td>\n",
       "    </tr>\n",
       "    <tr>\n",
       "      <th>2</th>\n",
       "      <td>-0.6717</td>\n",
       "      <td>-0.004151</td>\n",
       "      <td>light</td>\n",
       "    </tr>\n",
       "    <tr>\n",
       "      <th>3</th>\n",
       "      <td>-0.6576</td>\n",
       "      <td>-0.004184</td>\n",
       "      <td>light</td>\n",
       "    </tr>\n",
       "    <tr>\n",
       "      <th>4</th>\n",
       "      <td>-0.6434</td>\n",
       "      <td>-0.004151</td>\n",
       "      <td>light</td>\n",
       "    </tr>\n",
       "    <tr>\n",
       "      <th>...</th>\n",
       "      <td>...</td>\n",
       "      <td>...</td>\n",
       "      <td>...</td>\n",
       "    </tr>\n",
       "    <tr>\n",
       "      <th>95</th>\n",
       "      <td>0.6436</td>\n",
       "      <td>0.008079</td>\n",
       "      <td>light</td>\n",
       "    </tr>\n",
       "    <tr>\n",
       "      <th>96</th>\n",
       "      <td>0.6577</td>\n",
       "      <td>0.010840</td>\n",
       "      <td>light</td>\n",
       "    </tr>\n",
       "    <tr>\n",
       "      <th>97</th>\n",
       "      <td>0.6718</td>\n",
       "      <td>0.014050</td>\n",
       "      <td>light</td>\n",
       "    </tr>\n",
       "    <tr>\n",
       "      <th>98</th>\n",
       "      <td>0.6860</td>\n",
       "      <td>0.017760</td>\n",
       "      <td>light</td>\n",
       "    </tr>\n",
       "    <tr>\n",
       "      <th>99</th>\n",
       "      <td>0.7001</td>\n",
       "      <td>0.021980</td>\n",
       "      <td>light</td>\n",
       "    </tr>\n",
       "  </tbody>\n",
       "</table>\n",
       "<p>100 rows × 3 columns</p>\n",
       "</div>"
      ],
      "text/plain": [
       "    Voltage (V)  Current (A)     In\n",
       "0       -0.7000    -0.004104  light\n",
       "1       -0.6858    -0.004110  light\n",
       "2       -0.6717    -0.004151  light\n",
       "3       -0.6576    -0.004184  light\n",
       "4       -0.6434    -0.004151  light\n",
       "..          ...          ...    ...\n",
       "95       0.6436     0.008079  light\n",
       "96       0.6577     0.010840  light\n",
       "97       0.6718     0.014050  light\n",
       "98       0.6860     0.017760  light\n",
       "99       0.7001     0.021980  light\n",
       "\n",
       "[100 rows x 3 columns]"
      ]
     },
     "execution_count": 3,
     "metadata": {},
     "output_type": "execute_result"
    }
   ],
   "source": [
    "l_df = pd.read_csv(\n",
    "    \"I_V_curve_light.txt\",\n",
    "    sep=\"\\t\",\n",
    "    names=[\"Voltaje (Volts)\", \"Corriente(Amperes)\"],\n",
    "    skiprows=1\n",
    ")\n",
    "\n",
    "l_df = l_df.rename(columns={\"Voltaje (Volts)\": \"Voltage (V)\", \"Corriente(Amperes)\": \"Current (A)\"})\n",
    "l_df.loc[:, \"In\"] = \"light\"\n",
    "l_df"
   ]
  },
  {
   "attachments": {},
   "cell_type": "markdown",
   "metadata": {},
   "source": [
    "Creating one dataframe with all the measurements:"
   ]
  },
  {
   "cell_type": "code",
   "execution_count": 4,
   "metadata": {},
   "outputs": [
    {
     "data": {
      "text/plain": [
       "Voltage (V)    float64\n",
       "Current (A)    float64\n",
       "In              object\n",
       "dtype: object"
      ]
     },
     "execution_count": 4,
     "metadata": {},
     "output_type": "execute_result"
    }
   ],
   "source": [
    "df = pd.concat([d_df, l_df], ignore_index=True)\n",
    "df.dtypes"
   ]
  },
  {
   "attachments": {},
   "cell_type": "markdown",
   "metadata": {},
   "source": [
    "## I-V Characteristic Curves Obtainment  \n",
    "The I-V characteristics of a Si solar cell with an area of $0.16$ $cm^2$ at a room temperature of $25$ $^{°}C$ ($298.15$ $K$) are obtained."
   ]
  },
  {
   "cell_type": "code",
   "execution_count": 5,
   "metadata": {},
   "outputs": [
    {
     "data": {
      "application/vnd.plotly.v1+json": {
       "config": {
        "plotlyServerURL": "https://plot.ly"
       },
       "data": [
        {
         "hovertemplate": "In=darkness<br>Voltage (V)=%{x}<br>Current (A)=%{y}<extra></extra>",
         "legendgroup": "darkness",
         "line": {
          "color": "#636efa",
          "dash": "solid"
         },
         "marker": {
          "symbol": "circle"
         },
         "mode": "markers+lines",
         "name": "darkness",
         "orientation": "v",
         "showlegend": true,
         "type": "scatter",
         "x": [
          -0.7,
          -0.6858,
          -0.6717,
          -0.6576,
          -0.6434,
          -0.6293,
          -0.6151,
          -0.601,
          -0.5868,
          -0.5727,
          -0.5586,
          -0.5444,
          -0.5302,
          -0.5161,
          -0.502,
          -0.4879,
          -0.4737,
          -0.4596,
          -0.4454,
          -0.4313,
          -0.4171,
          -0.403,
          -0.3889,
          -0.3747,
          -0.3606,
          -0.3464,
          -0.3322,
          -0.3182,
          -0.304,
          -0.2898,
          -0.2757,
          -0.2615,
          -0.2474,
          -0.2333,
          -0.2191,
          -0.205,
          -0.1909,
          -0.1767,
          -0.1626,
          -0.1484,
          -0.1343,
          -0.1202,
          -0.106,
          -0.09182,
          -0.07771,
          -0.06357,
          -0.04942,
          -0.03524,
          -0.02109,
          -0.006958,
          0.007111,
          0.02126,
          0.0354,
          0.04959,
          0.06372,
          0.07786,
          0.09198,
          0.1061,
          0.1203,
          0.1344,
          0.1486,
          0.1627,
          0.1768,
          0.191,
          0.2051,
          0.2193,
          0.2334,
          0.2476,
          0.2616,
          0.2758,
          0.29,
          0.3041,
          0.3183,
          0.3324,
          0.3465,
          0.3607,
          0.3748,
          0.389,
          0.4032,
          0.4173,
          0.4314,
          0.4455,
          0.4597,
          0.4738,
          0.488,
          0.5021,
          0.5162,
          0.5304,
          0.5445,
          0.5587,
          0.5728,
          0.5869,
          0.6011,
          0.6153,
          0.6294,
          0.6436,
          0.6577,
          0.6718,
          0.686,
          0.7001
         ],
         "xaxis": "x",
         "y": [
          -1.135e-7,
          -1.123e-7,
          -1.124e-7,
          -1.129e-7,
          -1.118e-7,
          -1.13e-7,
          -1.127e-7,
          -1.125e-7,
          -1.122e-7,
          -1.123e-7,
          -1.118e-7,
          -1.123e-7,
          -1.123e-7,
          -1.126e-7,
          -1.122e-7,
          -1.124e-7,
          -1.12e-7,
          -1.118e-7,
          -1.118e-7,
          -1.124e-7,
          -1.121e-7,
          -1.124e-7,
          -1.119e-7,
          -1.121e-7,
          -1.122e-7,
          -1.121e-7,
          -1.123e-7,
          -1.124e-7,
          -1.123e-7,
          -1.124e-7,
          -1.118e-7,
          -1.121e-7,
          -1.121e-7,
          -1.115e-7,
          -1.119e-7,
          -1.113e-7,
          -1.117e-7,
          -1.121e-7,
          -1.117e-7,
          -1.113e-7,
          -1.115e-7,
          -1.117e-7,
          -1.123e-7,
          -1.123e-7,
          -1.123e-7,
          -1.117e-7,
          -1.115e-7,
          -1.118e-7,
          -1.119e-7,
          -1.117e-7,
          -1.113e-7,
          -1.122e-7,
          -1.119e-7,
          -1.116e-7,
          -1.114e-7,
          -1.117e-7,
          -1.109e-7,
          -1.097e-7,
          -1.077e-7,
          -1.043e-7,
          -9.978e-8,
          -9.137e-8,
          -7.601e-8,
          -4.941e-8,
          -4.525e-9,
          7.396e-8,
          2.09e-7,
          4.403e-7,
          8.29e-7,
          0.000001485,
          0.000002558,
          0.000004277,
          0.000006951,
          0.00001092,
          0.00001677,
          0.00002504,
          0.00003653,
          0.00005229,
          0.00007357,
          0.0001021,
          0.0001401,
          0.0001907,
          0.0002579,
          0.000347,
          0.0004645,
          0.0006192,
          0.0008234,
          0.001092,
          0.001445,
          0.001906,
          0.002505,
          0.003278,
          0.004269,
          0.005528,
          0.007099,
          0.009036,
          0.01139,
          0.01419,
          0.0175,
          0.02133
         ],
         "yaxis": "y"
        },
        {
         "hovertemplate": "In=light<br>Voltage (V)=%{x}<br>Current (A)=%{y}<extra></extra>",
         "legendgroup": "light",
         "line": {
          "color": "#EF553B",
          "dash": "solid"
         },
         "marker": {
          "symbol": "circle"
         },
         "mode": "markers+lines",
         "name": "light",
         "orientation": "v",
         "showlegend": true,
         "type": "scatter",
         "x": [
          -0.7,
          -0.6858,
          -0.6717,
          -0.6576,
          -0.6434,
          -0.6293,
          -0.6151,
          -0.601,
          -0.5868,
          -0.5727,
          -0.5586,
          -0.5444,
          -0.5302,
          -0.5161,
          -0.502,
          -0.4879,
          -0.4737,
          -0.4596,
          -0.4454,
          -0.4313,
          -0.4171,
          -0.403,
          -0.3889,
          -0.3747,
          -0.3606,
          -0.3464,
          -0.3322,
          -0.3182,
          -0.304,
          -0.2898,
          -0.2757,
          -0.2615,
          -0.2474,
          -0.2333,
          -0.2191,
          -0.205,
          -0.1909,
          -0.1767,
          -0.1626,
          -0.1484,
          -0.1343,
          -0.1202,
          -0.106,
          -0.09184,
          -0.07772,
          -0.06357,
          -0.04943,
          -0.03525,
          -0.0211,
          -0.006948,
          0.007107,
          0.02125,
          0.03539,
          0.04958,
          0.06372,
          0.07786,
          0.09198,
          0.1061,
          0.1203,
          0.1344,
          0.1486,
          0.1627,
          0.1768,
          0.191,
          0.2051,
          0.2193,
          0.2334,
          0.2476,
          0.2616,
          0.2758,
          0.29,
          0.3041,
          0.3183,
          0.3324,
          0.3465,
          0.3607,
          0.3748,
          0.389,
          0.4031,
          0.4173,
          0.4314,
          0.4455,
          0.4597,
          0.4738,
          0.488,
          0.5021,
          0.5162,
          0.5304,
          0.5445,
          0.5587,
          0.5728,
          0.587,
          0.6011,
          0.6153,
          0.6294,
          0.6436,
          0.6577,
          0.6718,
          0.686,
          0.7001
         ],
         "xaxis": "x",
         "y": [
          -0.004104,
          -0.00411,
          -0.004151,
          -0.004184,
          -0.004151,
          -0.004181,
          -0.004164,
          -0.004145,
          -0.004159,
          -0.004144,
          -0.004178,
          -0.004165,
          -0.004156,
          -0.004158,
          -0.004187,
          -0.004149,
          -0.004149,
          -0.004138,
          -0.004119,
          -0.004133,
          -0.004143,
          -0.004146,
          -0.004141,
          -0.004147,
          -0.004168,
          -0.004173,
          -0.004144,
          -0.004121,
          -0.004119,
          -0.004152,
          -0.004133,
          -0.004142,
          -0.004134,
          -0.004139,
          -0.004141,
          -0.004108,
          -0.004136,
          -0.004143,
          -0.004139,
          -0.004144,
          -0.004148,
          -0.004113,
          -0.004139,
          -0.00409,
          -0.004135,
          -0.004168,
          -0.004144,
          -0.004136,
          -0.004126,
          -0.004126,
          -0.004114,
          -0.004057,
          -0.00411,
          -0.004107,
          -0.004091,
          -0.004125,
          -0.004115,
          -0.004088,
          -0.004072,
          -0.004088,
          -0.004083,
          -0.004042,
          -0.004036,
          -0.004043,
          -0.00403,
          -0.004044,
          -0.004036,
          -0.004008,
          -0.003988,
          -0.003994,
          -0.003984,
          -0.003964,
          -0.003937,
          -0.003925,
          -0.003901,
          -0.003927,
          -0.00388,
          -0.003819,
          -0.003787,
          -0.003724,
          -0.003638,
          -0.00353,
          -0.003458,
          -0.003263,
          -0.003153,
          -0.002929,
          -0.002602,
          -0.002194,
          -0.001676,
          -0.001017,
          -0.0001963,
          0.0008422,
          0.002189,
          0.003794,
          0.005763,
          0.008079,
          0.01084,
          0.01405,
          0.01776,
          0.02198
         ],
         "yaxis": "y"
        }
       ],
       "layout": {
        "legend": {
         "title": {
          "text": "In"
         },
         "tracegroupgap": 0
        },
        "template": {
         "data": {
          "bar": [
           {
            "error_x": {
             "color": "#2a3f5f"
            },
            "error_y": {
             "color": "#2a3f5f"
            },
            "marker": {
             "line": {
              "color": "#E5ECF6",
              "width": 0.5
             },
             "pattern": {
              "fillmode": "overlay",
              "size": 10,
              "solidity": 0.2
             }
            },
            "type": "bar"
           }
          ],
          "barpolar": [
           {
            "marker": {
             "line": {
              "color": "#E5ECF6",
              "width": 0.5
             },
             "pattern": {
              "fillmode": "overlay",
              "size": 10,
              "solidity": 0.2
             }
            },
            "type": "barpolar"
           }
          ],
          "carpet": [
           {
            "aaxis": {
             "endlinecolor": "#2a3f5f",
             "gridcolor": "white",
             "linecolor": "white",
             "minorgridcolor": "white",
             "startlinecolor": "#2a3f5f"
            },
            "baxis": {
             "endlinecolor": "#2a3f5f",
             "gridcolor": "white",
             "linecolor": "white",
             "minorgridcolor": "white",
             "startlinecolor": "#2a3f5f"
            },
            "type": "carpet"
           }
          ],
          "choropleth": [
           {
            "colorbar": {
             "outlinewidth": 0,
             "ticks": ""
            },
            "type": "choropleth"
           }
          ],
          "contour": [
           {
            "colorbar": {
             "outlinewidth": 0,
             "ticks": ""
            },
            "colorscale": [
             [
              0,
              "#0d0887"
             ],
             [
              0.1111111111111111,
              "#46039f"
             ],
             [
              0.2222222222222222,
              "#7201a8"
             ],
             [
              0.3333333333333333,
              "#9c179e"
             ],
             [
              0.4444444444444444,
              "#bd3786"
             ],
             [
              0.5555555555555556,
              "#d8576b"
             ],
             [
              0.6666666666666666,
              "#ed7953"
             ],
             [
              0.7777777777777778,
              "#fb9f3a"
             ],
             [
              0.8888888888888888,
              "#fdca26"
             ],
             [
              1,
              "#f0f921"
             ]
            ],
            "type": "contour"
           }
          ],
          "contourcarpet": [
           {
            "colorbar": {
             "outlinewidth": 0,
             "ticks": ""
            },
            "type": "contourcarpet"
           }
          ],
          "heatmap": [
           {
            "colorbar": {
             "outlinewidth": 0,
             "ticks": ""
            },
            "colorscale": [
             [
              0,
              "#0d0887"
             ],
             [
              0.1111111111111111,
              "#46039f"
             ],
             [
              0.2222222222222222,
              "#7201a8"
             ],
             [
              0.3333333333333333,
              "#9c179e"
             ],
             [
              0.4444444444444444,
              "#bd3786"
             ],
             [
              0.5555555555555556,
              "#d8576b"
             ],
             [
              0.6666666666666666,
              "#ed7953"
             ],
             [
              0.7777777777777778,
              "#fb9f3a"
             ],
             [
              0.8888888888888888,
              "#fdca26"
             ],
             [
              1,
              "#f0f921"
             ]
            ],
            "type": "heatmap"
           }
          ],
          "heatmapgl": [
           {
            "colorbar": {
             "outlinewidth": 0,
             "ticks": ""
            },
            "colorscale": [
             [
              0,
              "#0d0887"
             ],
             [
              0.1111111111111111,
              "#46039f"
             ],
             [
              0.2222222222222222,
              "#7201a8"
             ],
             [
              0.3333333333333333,
              "#9c179e"
             ],
             [
              0.4444444444444444,
              "#bd3786"
             ],
             [
              0.5555555555555556,
              "#d8576b"
             ],
             [
              0.6666666666666666,
              "#ed7953"
             ],
             [
              0.7777777777777778,
              "#fb9f3a"
             ],
             [
              0.8888888888888888,
              "#fdca26"
             ],
             [
              1,
              "#f0f921"
             ]
            ],
            "type": "heatmapgl"
           }
          ],
          "histogram": [
           {
            "marker": {
             "pattern": {
              "fillmode": "overlay",
              "size": 10,
              "solidity": 0.2
             }
            },
            "type": "histogram"
           }
          ],
          "histogram2d": [
           {
            "colorbar": {
             "outlinewidth": 0,
             "ticks": ""
            },
            "colorscale": [
             [
              0,
              "#0d0887"
             ],
             [
              0.1111111111111111,
              "#46039f"
             ],
             [
              0.2222222222222222,
              "#7201a8"
             ],
             [
              0.3333333333333333,
              "#9c179e"
             ],
             [
              0.4444444444444444,
              "#bd3786"
             ],
             [
              0.5555555555555556,
              "#d8576b"
             ],
             [
              0.6666666666666666,
              "#ed7953"
             ],
             [
              0.7777777777777778,
              "#fb9f3a"
             ],
             [
              0.8888888888888888,
              "#fdca26"
             ],
             [
              1,
              "#f0f921"
             ]
            ],
            "type": "histogram2d"
           }
          ],
          "histogram2dcontour": [
           {
            "colorbar": {
             "outlinewidth": 0,
             "ticks": ""
            },
            "colorscale": [
             [
              0,
              "#0d0887"
             ],
             [
              0.1111111111111111,
              "#46039f"
             ],
             [
              0.2222222222222222,
              "#7201a8"
             ],
             [
              0.3333333333333333,
              "#9c179e"
             ],
             [
              0.4444444444444444,
              "#bd3786"
             ],
             [
              0.5555555555555556,
              "#d8576b"
             ],
             [
              0.6666666666666666,
              "#ed7953"
             ],
             [
              0.7777777777777778,
              "#fb9f3a"
             ],
             [
              0.8888888888888888,
              "#fdca26"
             ],
             [
              1,
              "#f0f921"
             ]
            ],
            "type": "histogram2dcontour"
           }
          ],
          "mesh3d": [
           {
            "colorbar": {
             "outlinewidth": 0,
             "ticks": ""
            },
            "type": "mesh3d"
           }
          ],
          "parcoords": [
           {
            "line": {
             "colorbar": {
              "outlinewidth": 0,
              "ticks": ""
             }
            },
            "type": "parcoords"
           }
          ],
          "pie": [
           {
            "automargin": true,
            "type": "pie"
           }
          ],
          "scatter": [
           {
            "fillpattern": {
             "fillmode": "overlay",
             "size": 10,
             "solidity": 0.2
            },
            "type": "scatter"
           }
          ],
          "scatter3d": [
           {
            "line": {
             "colorbar": {
              "outlinewidth": 0,
              "ticks": ""
             }
            },
            "marker": {
             "colorbar": {
              "outlinewidth": 0,
              "ticks": ""
             }
            },
            "type": "scatter3d"
           }
          ],
          "scattercarpet": [
           {
            "marker": {
             "colorbar": {
              "outlinewidth": 0,
              "ticks": ""
             }
            },
            "type": "scattercarpet"
           }
          ],
          "scattergeo": [
           {
            "marker": {
             "colorbar": {
              "outlinewidth": 0,
              "ticks": ""
             }
            },
            "type": "scattergeo"
           }
          ],
          "scattergl": [
           {
            "marker": {
             "colorbar": {
              "outlinewidth": 0,
              "ticks": ""
             }
            },
            "type": "scattergl"
           }
          ],
          "scattermapbox": [
           {
            "marker": {
             "colorbar": {
              "outlinewidth": 0,
              "ticks": ""
             }
            },
            "type": "scattermapbox"
           }
          ],
          "scatterpolar": [
           {
            "marker": {
             "colorbar": {
              "outlinewidth": 0,
              "ticks": ""
             }
            },
            "type": "scatterpolar"
           }
          ],
          "scatterpolargl": [
           {
            "marker": {
             "colorbar": {
              "outlinewidth": 0,
              "ticks": ""
             }
            },
            "type": "scatterpolargl"
           }
          ],
          "scatterternary": [
           {
            "marker": {
             "colorbar": {
              "outlinewidth": 0,
              "ticks": ""
             }
            },
            "type": "scatterternary"
           }
          ],
          "surface": [
           {
            "colorbar": {
             "outlinewidth": 0,
             "ticks": ""
            },
            "colorscale": [
             [
              0,
              "#0d0887"
             ],
             [
              0.1111111111111111,
              "#46039f"
             ],
             [
              0.2222222222222222,
              "#7201a8"
             ],
             [
              0.3333333333333333,
              "#9c179e"
             ],
             [
              0.4444444444444444,
              "#bd3786"
             ],
             [
              0.5555555555555556,
              "#d8576b"
             ],
             [
              0.6666666666666666,
              "#ed7953"
             ],
             [
              0.7777777777777778,
              "#fb9f3a"
             ],
             [
              0.8888888888888888,
              "#fdca26"
             ],
             [
              1,
              "#f0f921"
             ]
            ],
            "type": "surface"
           }
          ],
          "table": [
           {
            "cells": {
             "fill": {
              "color": "#EBF0F8"
             },
             "line": {
              "color": "white"
             }
            },
            "header": {
             "fill": {
              "color": "#C8D4E3"
             },
             "line": {
              "color": "white"
             }
            },
            "type": "table"
           }
          ]
         },
         "layout": {
          "annotationdefaults": {
           "arrowcolor": "#2a3f5f",
           "arrowhead": 0,
           "arrowwidth": 1
          },
          "autotypenumbers": "strict",
          "coloraxis": {
           "colorbar": {
            "outlinewidth": 0,
            "ticks": ""
           }
          },
          "colorscale": {
           "diverging": [
            [
             0,
             "#8e0152"
            ],
            [
             0.1,
             "#c51b7d"
            ],
            [
             0.2,
             "#de77ae"
            ],
            [
             0.3,
             "#f1b6da"
            ],
            [
             0.4,
             "#fde0ef"
            ],
            [
             0.5,
             "#f7f7f7"
            ],
            [
             0.6,
             "#e6f5d0"
            ],
            [
             0.7,
             "#b8e186"
            ],
            [
             0.8,
             "#7fbc41"
            ],
            [
             0.9,
             "#4d9221"
            ],
            [
             1,
             "#276419"
            ]
           ],
           "sequential": [
            [
             0,
             "#0d0887"
            ],
            [
             0.1111111111111111,
             "#46039f"
            ],
            [
             0.2222222222222222,
             "#7201a8"
            ],
            [
             0.3333333333333333,
             "#9c179e"
            ],
            [
             0.4444444444444444,
             "#bd3786"
            ],
            [
             0.5555555555555556,
             "#d8576b"
            ],
            [
             0.6666666666666666,
             "#ed7953"
            ],
            [
             0.7777777777777778,
             "#fb9f3a"
            ],
            [
             0.8888888888888888,
             "#fdca26"
            ],
            [
             1,
             "#f0f921"
            ]
           ],
           "sequentialminus": [
            [
             0,
             "#0d0887"
            ],
            [
             0.1111111111111111,
             "#46039f"
            ],
            [
             0.2222222222222222,
             "#7201a8"
            ],
            [
             0.3333333333333333,
             "#9c179e"
            ],
            [
             0.4444444444444444,
             "#bd3786"
            ],
            [
             0.5555555555555556,
             "#d8576b"
            ],
            [
             0.6666666666666666,
             "#ed7953"
            ],
            [
             0.7777777777777778,
             "#fb9f3a"
            ],
            [
             0.8888888888888888,
             "#fdca26"
            ],
            [
             1,
             "#f0f921"
            ]
           ]
          },
          "colorway": [
           "#636efa",
           "#EF553B",
           "#00cc96",
           "#ab63fa",
           "#FFA15A",
           "#19d3f3",
           "#FF6692",
           "#B6E880",
           "#FF97FF",
           "#FECB52"
          ],
          "font": {
           "color": "#2a3f5f"
          },
          "geo": {
           "bgcolor": "white",
           "lakecolor": "white",
           "landcolor": "#E5ECF6",
           "showlakes": true,
           "showland": true,
           "subunitcolor": "white"
          },
          "hoverlabel": {
           "align": "left"
          },
          "hovermode": "closest",
          "mapbox": {
           "style": "light"
          },
          "paper_bgcolor": "white",
          "plot_bgcolor": "#E5ECF6",
          "polar": {
           "angularaxis": {
            "gridcolor": "white",
            "linecolor": "white",
            "ticks": ""
           },
           "bgcolor": "#E5ECF6",
           "radialaxis": {
            "gridcolor": "white",
            "linecolor": "white",
            "ticks": ""
           }
          },
          "scene": {
           "xaxis": {
            "backgroundcolor": "#E5ECF6",
            "gridcolor": "white",
            "gridwidth": 2,
            "linecolor": "white",
            "showbackground": true,
            "ticks": "",
            "zerolinecolor": "white"
           },
           "yaxis": {
            "backgroundcolor": "#E5ECF6",
            "gridcolor": "white",
            "gridwidth": 2,
            "linecolor": "white",
            "showbackground": true,
            "ticks": "",
            "zerolinecolor": "white"
           },
           "zaxis": {
            "backgroundcolor": "#E5ECF6",
            "gridcolor": "white",
            "gridwidth": 2,
            "linecolor": "white",
            "showbackground": true,
            "ticks": "",
            "zerolinecolor": "white"
           }
          },
          "shapedefaults": {
           "line": {
            "color": "#2a3f5f"
           }
          },
          "ternary": {
           "aaxis": {
            "gridcolor": "white",
            "linecolor": "white",
            "ticks": ""
           },
           "baxis": {
            "gridcolor": "white",
            "linecolor": "white",
            "ticks": ""
           },
           "bgcolor": "#E5ECF6",
           "caxis": {
            "gridcolor": "white",
            "linecolor": "white",
            "ticks": ""
           }
          },
          "title": {
           "x": 0.05
          },
          "xaxis": {
           "automargin": true,
           "gridcolor": "white",
           "linecolor": "white",
           "ticks": "",
           "title": {
            "standoff": 15
           },
           "zerolinecolor": "white",
           "zerolinewidth": 2
          },
          "yaxis": {
           "automargin": true,
           "gridcolor": "white",
           "linecolor": "white",
           "ticks": "",
           "title": {
            "standoff": 15
           },
           "zerolinecolor": "white",
           "zerolinewidth": 2
          }
         }
        },
        "title": {
         "text": "Fig.1: I-V Characteristic Curves of a Si solar cell in darkness and under light",
         "x": 0.5
        },
        "xaxis": {
         "anchor": "y",
         "domain": [
          0,
          1
         ],
         "linecolor": "black",
         "linewidth": 2,
         "mirror": true,
         "title": {
          "text": "Voltage (V)"
         }
        },
        "yaxis": {
         "anchor": "x",
         "domain": [
          0,
          1
         ],
         "linecolor": "black",
         "linewidth": 2,
         "mirror": true,
         "title": {
          "text": "Current (A)"
         }
        }
       }
      }
     },
     "metadata": {},
     "output_type": "display_data"
    }
   ],
   "source": [
    "fig1 = px.line(\n",
    "    df, x=\"Voltage (V)\",\n",
    "    y=\"Current (A)\",\n",
    "    color=\"In\",\n",
    "    markers=True,\n",
    "    title=\"Fig.1: I-V Characteristic Curves of a Si solar cell in darkness and under light\"\n",
    ")\n",
    "\n",
    "fig1.update_layout(title_x=0.5)\n",
    "fig1.update_xaxes(linewidth=2, linecolor=\"black\", mirror=True)\n",
    "fig1.update_yaxes(linewidth=2, linecolor=\"black\", mirror=True)\n",
    "fig1.show()"
   ]
  },
  {
   "attachments": {},
   "cell_type": "markdown",
   "metadata": {},
   "source": [
    "From the above graph we can see that the photovoltaic current moves to negative values when the cell is illuminated. On the other hand, the current is almost null when the cell is in the darkness and when it is under ilumination it has constant values for the current until about $374.8$ $mV$, but the current starts to increase in both curves around $400$ $mV$."
   ]
  },
  {
   "attachments": {},
   "cell_type": "markdown",
   "metadata": {},
   "source": [
    "## Obtaining $I_{S}$ and $n$"
   ]
  },
  {
   "attachments": {},
   "cell_type": "markdown",
   "metadata": {},
   "source": [
    "$I_{S}$ and $n$ will be calculated through the logarithm of the currents when there's darkness."
   ]
  },
  {
   "attachments": {},
   "cell_type": "markdown",
   "metadata": {},
   "source": [
    "Remember that:    \n",
    "$I=I_{S}(e^{\\frac{qV}{nk_{B}T}}-1)$  \n",
    "where *q* is the electron charge, *V* the voltage, $k_{B}$ the Boltzmann constant and *T* the temperature.  \n",
    "If  $n\\thickapprox1$ , it will have a diffusion current and when $n\\thickapprox2$ , it will have a recombination current.  \n",
    "From the previous equation, if $\\frac{qV}{nk_{B}T}$ $\\geq$ *3*, the exponential term dominates and we have:  \n",
    "$I=I_{S}e^{\\frac{qV}{nk_{B}T}}$  \n",
    "Applying natural logarithm:  \n",
    "$ln(I)=ln(I_{S}) + \\frac{qV}{nk_{B}T}$  \n",
    "To find $I_{S}$ and *n*, we make $V=0$ and then $a=\\frac{q}{nk_{B}T}$ and $b=ln(I_{S})$ and we have  \n",
    "$I_{S}=e^{b}$  \n",
    "$n=\\frac{q}{ak_{B}T}$"
   ]
  },
  {
   "attachments": {},
   "cell_type": "markdown",
   "metadata": {},
   "source": [
    "Let's calculate $ln(I)$ for the cell when it is in darkness."
   ]
  },
  {
   "cell_type": "code",
   "execution_count": 6,
   "metadata": {},
   "outputs": [
    {
     "name": "stderr",
     "output_type": "stream",
     "text": [
      "c:\\Users\\Memo\\Documents\\Proyectos Python\\solar_cells_characterization\\.env\\lib\\site-packages\\pandas\\core\\arraylike.py:402: RuntimeWarning:\n",
      "\n",
      "invalid value encountered in log\n",
      "\n"
     ]
    }
   ],
   "source": [
    "drk_df = d_df.copy()\n",
    "# Because of the negative values of the current, we drop the errors\n",
    "drk_df[\"ln(I)\"] = np.log(drk_df[\"Current (A)\"])\n",
    "drk_df = drk_df.dropna()"
   ]
  },
  {
   "attachments": {},
   "cell_type": "markdown",
   "metadata": {},
   "source": [
    "Let's check which part of the curve presents a linear behaviour"
   ]
  },
  {
   "cell_type": "code",
   "execution_count": 7,
   "metadata": {},
   "outputs": [
    {
     "data": {
      "application/vnd.plotly.v1+json": {
       "config": {
        "plotlyServerURL": "https://plot.ly"
       },
       "data": [
        {
         "hovertemplate": "Voltage (V)=%{x}<br>ln(I)=%{y}<extra></extra>",
         "legendgroup": "",
         "line": {
          "color": "#636efa",
          "dash": "solid"
         },
         "marker": {
          "symbol": "circle"
         },
         "mode": "markers+lines",
         "name": "Darkness",
         "orientation": "v",
         "showlegend": true,
         "type": "scatter",
         "x": [
          0.2193,
          0.2334,
          0.2476,
          0.2616,
          0.2758,
          0.29,
          0.3041,
          0.3183,
          0.3324,
          0.3465,
          0.3607,
          0.3748,
          0.389,
          0.4032,
          0.4173,
          0.4314,
          0.4455,
          0.4597,
          0.4738,
          0.488,
          0.5021,
          0.5162,
          0.5304,
          0.5445,
          0.5587,
          0.5728,
          0.5869,
          0.6011,
          0.6153,
          0.6294,
          0.6436,
          0.6577,
          0.6718,
          0.686,
          0.7001
         ],
         "xaxis": "x",
         "y": [
          -16.419741430427486,
          -15.3809315849816,
          -14.635809524184703,
          -14.003045681811116,
          -13.420095785709611,
          -12.876284854807624,
          -12.362258728719503,
          -11.876625023845925,
          -11.424914587647516,
          -10.995918982129156,
          -10.595036011732375,
          -10.217376717157084,
          -9.858705409764235,
          -9.517273224020101,
          -9.189557832793653,
          -8.873154104621312,
          -8.5648090453579,
          -8.262938645076975,
          -7.966185778017415,
          -7.674548999710381,
          -7.387082235688757,
          -7.1020684486284695,
          -6.819744401659424,
          -6.539645957417742,
          -6.262748473750126,
          -5.989466544445309,
          -5.720521798660499,
          -5.456375671206312,
          -5.197929192516768,
          -4.947801349924888,
          -4.70653868037638,
          -4.475019501523046,
          -4.255217787810186,
          -4.045554398052668,
          -3.847640746498878
         ],
         "yaxis": "y"
        }
       ],
       "layout": {
        "legend": {
         "tracegroupgap": 0
        },
        "template": {
         "data": {
          "bar": [
           {
            "error_x": {
             "color": "#2a3f5f"
            },
            "error_y": {
             "color": "#2a3f5f"
            },
            "marker": {
             "line": {
              "color": "#E5ECF6",
              "width": 0.5
             },
             "pattern": {
              "fillmode": "overlay",
              "size": 10,
              "solidity": 0.2
             }
            },
            "type": "bar"
           }
          ],
          "barpolar": [
           {
            "marker": {
             "line": {
              "color": "#E5ECF6",
              "width": 0.5
             },
             "pattern": {
              "fillmode": "overlay",
              "size": 10,
              "solidity": 0.2
             }
            },
            "type": "barpolar"
           }
          ],
          "carpet": [
           {
            "aaxis": {
             "endlinecolor": "#2a3f5f",
             "gridcolor": "white",
             "linecolor": "white",
             "minorgridcolor": "white",
             "startlinecolor": "#2a3f5f"
            },
            "baxis": {
             "endlinecolor": "#2a3f5f",
             "gridcolor": "white",
             "linecolor": "white",
             "minorgridcolor": "white",
             "startlinecolor": "#2a3f5f"
            },
            "type": "carpet"
           }
          ],
          "choropleth": [
           {
            "colorbar": {
             "outlinewidth": 0,
             "ticks": ""
            },
            "type": "choropleth"
           }
          ],
          "contour": [
           {
            "colorbar": {
             "outlinewidth": 0,
             "ticks": ""
            },
            "colorscale": [
             [
              0,
              "#0d0887"
             ],
             [
              0.1111111111111111,
              "#46039f"
             ],
             [
              0.2222222222222222,
              "#7201a8"
             ],
             [
              0.3333333333333333,
              "#9c179e"
             ],
             [
              0.4444444444444444,
              "#bd3786"
             ],
             [
              0.5555555555555556,
              "#d8576b"
             ],
             [
              0.6666666666666666,
              "#ed7953"
             ],
             [
              0.7777777777777778,
              "#fb9f3a"
             ],
             [
              0.8888888888888888,
              "#fdca26"
             ],
             [
              1,
              "#f0f921"
             ]
            ],
            "type": "contour"
           }
          ],
          "contourcarpet": [
           {
            "colorbar": {
             "outlinewidth": 0,
             "ticks": ""
            },
            "type": "contourcarpet"
           }
          ],
          "heatmap": [
           {
            "colorbar": {
             "outlinewidth": 0,
             "ticks": ""
            },
            "colorscale": [
             [
              0,
              "#0d0887"
             ],
             [
              0.1111111111111111,
              "#46039f"
             ],
             [
              0.2222222222222222,
              "#7201a8"
             ],
             [
              0.3333333333333333,
              "#9c179e"
             ],
             [
              0.4444444444444444,
              "#bd3786"
             ],
             [
              0.5555555555555556,
              "#d8576b"
             ],
             [
              0.6666666666666666,
              "#ed7953"
             ],
             [
              0.7777777777777778,
              "#fb9f3a"
             ],
             [
              0.8888888888888888,
              "#fdca26"
             ],
             [
              1,
              "#f0f921"
             ]
            ],
            "type": "heatmap"
           }
          ],
          "heatmapgl": [
           {
            "colorbar": {
             "outlinewidth": 0,
             "ticks": ""
            },
            "colorscale": [
             [
              0,
              "#0d0887"
             ],
             [
              0.1111111111111111,
              "#46039f"
             ],
             [
              0.2222222222222222,
              "#7201a8"
             ],
             [
              0.3333333333333333,
              "#9c179e"
             ],
             [
              0.4444444444444444,
              "#bd3786"
             ],
             [
              0.5555555555555556,
              "#d8576b"
             ],
             [
              0.6666666666666666,
              "#ed7953"
             ],
             [
              0.7777777777777778,
              "#fb9f3a"
             ],
             [
              0.8888888888888888,
              "#fdca26"
             ],
             [
              1,
              "#f0f921"
             ]
            ],
            "type": "heatmapgl"
           }
          ],
          "histogram": [
           {
            "marker": {
             "pattern": {
              "fillmode": "overlay",
              "size": 10,
              "solidity": 0.2
             }
            },
            "type": "histogram"
           }
          ],
          "histogram2d": [
           {
            "colorbar": {
             "outlinewidth": 0,
             "ticks": ""
            },
            "colorscale": [
             [
              0,
              "#0d0887"
             ],
             [
              0.1111111111111111,
              "#46039f"
             ],
             [
              0.2222222222222222,
              "#7201a8"
             ],
             [
              0.3333333333333333,
              "#9c179e"
             ],
             [
              0.4444444444444444,
              "#bd3786"
             ],
             [
              0.5555555555555556,
              "#d8576b"
             ],
             [
              0.6666666666666666,
              "#ed7953"
             ],
             [
              0.7777777777777778,
              "#fb9f3a"
             ],
             [
              0.8888888888888888,
              "#fdca26"
             ],
             [
              1,
              "#f0f921"
             ]
            ],
            "type": "histogram2d"
           }
          ],
          "histogram2dcontour": [
           {
            "colorbar": {
             "outlinewidth": 0,
             "ticks": ""
            },
            "colorscale": [
             [
              0,
              "#0d0887"
             ],
             [
              0.1111111111111111,
              "#46039f"
             ],
             [
              0.2222222222222222,
              "#7201a8"
             ],
             [
              0.3333333333333333,
              "#9c179e"
             ],
             [
              0.4444444444444444,
              "#bd3786"
             ],
             [
              0.5555555555555556,
              "#d8576b"
             ],
             [
              0.6666666666666666,
              "#ed7953"
             ],
             [
              0.7777777777777778,
              "#fb9f3a"
             ],
             [
              0.8888888888888888,
              "#fdca26"
             ],
             [
              1,
              "#f0f921"
             ]
            ],
            "type": "histogram2dcontour"
           }
          ],
          "mesh3d": [
           {
            "colorbar": {
             "outlinewidth": 0,
             "ticks": ""
            },
            "type": "mesh3d"
           }
          ],
          "parcoords": [
           {
            "line": {
             "colorbar": {
              "outlinewidth": 0,
              "ticks": ""
             }
            },
            "type": "parcoords"
           }
          ],
          "pie": [
           {
            "automargin": true,
            "type": "pie"
           }
          ],
          "scatter": [
           {
            "fillpattern": {
             "fillmode": "overlay",
             "size": 10,
             "solidity": 0.2
            },
            "type": "scatter"
           }
          ],
          "scatter3d": [
           {
            "line": {
             "colorbar": {
              "outlinewidth": 0,
              "ticks": ""
             }
            },
            "marker": {
             "colorbar": {
              "outlinewidth": 0,
              "ticks": ""
             }
            },
            "type": "scatter3d"
           }
          ],
          "scattercarpet": [
           {
            "marker": {
             "colorbar": {
              "outlinewidth": 0,
              "ticks": ""
             }
            },
            "type": "scattercarpet"
           }
          ],
          "scattergeo": [
           {
            "marker": {
             "colorbar": {
              "outlinewidth": 0,
              "ticks": ""
             }
            },
            "type": "scattergeo"
           }
          ],
          "scattergl": [
           {
            "marker": {
             "colorbar": {
              "outlinewidth": 0,
              "ticks": ""
             }
            },
            "type": "scattergl"
           }
          ],
          "scattermapbox": [
           {
            "marker": {
             "colorbar": {
              "outlinewidth": 0,
              "ticks": ""
             }
            },
            "type": "scattermapbox"
           }
          ],
          "scatterpolar": [
           {
            "marker": {
             "colorbar": {
              "outlinewidth": 0,
              "ticks": ""
             }
            },
            "type": "scatterpolar"
           }
          ],
          "scatterpolargl": [
           {
            "marker": {
             "colorbar": {
              "outlinewidth": 0,
              "ticks": ""
             }
            },
            "type": "scatterpolargl"
           }
          ],
          "scatterternary": [
           {
            "marker": {
             "colorbar": {
              "outlinewidth": 0,
              "ticks": ""
             }
            },
            "type": "scatterternary"
           }
          ],
          "surface": [
           {
            "colorbar": {
             "outlinewidth": 0,
             "ticks": ""
            },
            "colorscale": [
             [
              0,
              "#0d0887"
             ],
             [
              0.1111111111111111,
              "#46039f"
             ],
             [
              0.2222222222222222,
              "#7201a8"
             ],
             [
              0.3333333333333333,
              "#9c179e"
             ],
             [
              0.4444444444444444,
              "#bd3786"
             ],
             [
              0.5555555555555556,
              "#d8576b"
             ],
             [
              0.6666666666666666,
              "#ed7953"
             ],
             [
              0.7777777777777778,
              "#fb9f3a"
             ],
             [
              0.8888888888888888,
              "#fdca26"
             ],
             [
              1,
              "#f0f921"
             ]
            ],
            "type": "surface"
           }
          ],
          "table": [
           {
            "cells": {
             "fill": {
              "color": "#EBF0F8"
             },
             "line": {
              "color": "white"
             }
            },
            "header": {
             "fill": {
              "color": "#C8D4E3"
             },
             "line": {
              "color": "white"
             }
            },
            "type": "table"
           }
          ]
         },
         "layout": {
          "annotationdefaults": {
           "arrowcolor": "#2a3f5f",
           "arrowhead": 0,
           "arrowwidth": 1
          },
          "autotypenumbers": "strict",
          "coloraxis": {
           "colorbar": {
            "outlinewidth": 0,
            "ticks": ""
           }
          },
          "colorscale": {
           "diverging": [
            [
             0,
             "#8e0152"
            ],
            [
             0.1,
             "#c51b7d"
            ],
            [
             0.2,
             "#de77ae"
            ],
            [
             0.3,
             "#f1b6da"
            ],
            [
             0.4,
             "#fde0ef"
            ],
            [
             0.5,
             "#f7f7f7"
            ],
            [
             0.6,
             "#e6f5d0"
            ],
            [
             0.7,
             "#b8e186"
            ],
            [
             0.8,
             "#7fbc41"
            ],
            [
             0.9,
             "#4d9221"
            ],
            [
             1,
             "#276419"
            ]
           ],
           "sequential": [
            [
             0,
             "#0d0887"
            ],
            [
             0.1111111111111111,
             "#46039f"
            ],
            [
             0.2222222222222222,
             "#7201a8"
            ],
            [
             0.3333333333333333,
             "#9c179e"
            ],
            [
             0.4444444444444444,
             "#bd3786"
            ],
            [
             0.5555555555555556,
             "#d8576b"
            ],
            [
             0.6666666666666666,
             "#ed7953"
            ],
            [
             0.7777777777777778,
             "#fb9f3a"
            ],
            [
             0.8888888888888888,
             "#fdca26"
            ],
            [
             1,
             "#f0f921"
            ]
           ],
           "sequentialminus": [
            [
             0,
             "#0d0887"
            ],
            [
             0.1111111111111111,
             "#46039f"
            ],
            [
             0.2222222222222222,
             "#7201a8"
            ],
            [
             0.3333333333333333,
             "#9c179e"
            ],
            [
             0.4444444444444444,
             "#bd3786"
            ],
            [
             0.5555555555555556,
             "#d8576b"
            ],
            [
             0.6666666666666666,
             "#ed7953"
            ],
            [
             0.7777777777777778,
             "#fb9f3a"
            ],
            [
             0.8888888888888888,
             "#fdca26"
            ],
            [
             1,
             "#f0f921"
            ]
           ]
          },
          "colorway": [
           "#636efa",
           "#EF553B",
           "#00cc96",
           "#ab63fa",
           "#FFA15A",
           "#19d3f3",
           "#FF6692",
           "#B6E880",
           "#FF97FF",
           "#FECB52"
          ],
          "font": {
           "color": "#2a3f5f"
          },
          "geo": {
           "bgcolor": "white",
           "lakecolor": "white",
           "landcolor": "#E5ECF6",
           "showlakes": true,
           "showland": true,
           "subunitcolor": "white"
          },
          "hoverlabel": {
           "align": "left"
          },
          "hovermode": "closest",
          "mapbox": {
           "style": "light"
          },
          "paper_bgcolor": "white",
          "plot_bgcolor": "#E5ECF6",
          "polar": {
           "angularaxis": {
            "gridcolor": "white",
            "linecolor": "white",
            "ticks": ""
           },
           "bgcolor": "#E5ECF6",
           "radialaxis": {
            "gridcolor": "white",
            "linecolor": "white",
            "ticks": ""
           }
          },
          "scene": {
           "xaxis": {
            "backgroundcolor": "#E5ECF6",
            "gridcolor": "white",
            "gridwidth": 2,
            "linecolor": "white",
            "showbackground": true,
            "ticks": "",
            "zerolinecolor": "white"
           },
           "yaxis": {
            "backgroundcolor": "#E5ECF6",
            "gridcolor": "white",
            "gridwidth": 2,
            "linecolor": "white",
            "showbackground": true,
            "ticks": "",
            "zerolinecolor": "white"
           },
           "zaxis": {
            "backgroundcolor": "#E5ECF6",
            "gridcolor": "white",
            "gridwidth": 2,
            "linecolor": "white",
            "showbackground": true,
            "ticks": "",
            "zerolinecolor": "white"
           }
          },
          "shapedefaults": {
           "line": {
            "color": "#2a3f5f"
           }
          },
          "ternary": {
           "aaxis": {
            "gridcolor": "white",
            "linecolor": "white",
            "ticks": ""
           },
           "baxis": {
            "gridcolor": "white",
            "linecolor": "white",
            "ticks": ""
           },
           "bgcolor": "#E5ECF6",
           "caxis": {
            "gridcolor": "white",
            "linecolor": "white",
            "ticks": ""
           }
          },
          "title": {
           "x": 0.05
          },
          "xaxis": {
           "automargin": true,
           "gridcolor": "white",
           "linecolor": "white",
           "ticks": "",
           "title": {
            "standoff": 15
           },
           "zerolinecolor": "white",
           "zerolinewidth": 2
          },
          "yaxis": {
           "automargin": true,
           "gridcolor": "white",
           "linecolor": "white",
           "ticks": "",
           "title": {
            "standoff": 15
           },
           "zerolinecolor": "white",
           "zerolinewidth": 2
          }
         }
        },
        "title": {
         "text": "Fig.2: ln(I) vs Voltage",
         "x": 0.5
        },
        "xaxis": {
         "anchor": "y",
         "domain": [
          0,
          1
         ],
         "title": {
          "text": "Voltage (V)"
         }
        },
        "yaxis": {
         "anchor": "x",
         "domain": [
          0,
          1
         ],
         "title": {
          "text": "ln(I)"
         }
        }
       }
      }
     },
     "metadata": {},
     "output_type": "display_data"
    }
   ],
   "source": [
    "fig2 = px.line(\n",
    "    drk_df,\n",
    "    x=\"Voltage (V)\",\n",
    "    y=\"ln(I)\",\n",
    "    markers=True,\n",
    "    title=\"Fig.2: ln(I) vs Voltage\",\n",
    ")\n",
    "\n",
    "fig2.update_layout(title_x=0.5)\n",
    "fig2[\"data\"][0][\"showlegend\"] = True\n",
    "fig2[\"data\"][0][\"name\"] = \"Darkness\"\n",
    "fig2.show()"
   ]
  },
  {
   "attachments": {},
   "cell_type": "markdown",
   "metadata": {},
   "source": [
    "From the graph we can see that from $389$ $mV$ approximately, the curve presents a linear behaviour.  "
   ]
  },
  {
   "attachments": {},
   "cell_type": "markdown",
   "metadata": {},
   "source": [
    "Adjusting this part of the curve:"
   ]
  },
  {
   "cell_type": "code",
   "execution_count": 8,
   "metadata": {},
   "outputs": [
    {
     "data": {
      "image/png": "[encoded data removed]",
      "text/plain": [
       "<Figure size 1000x1000 with 1 Axes>"
      ]
     },
     "metadata": {},
     "output_type": "display_data"
    }
   ],
   "source": [
    "slope, inter, r, p, se = linregress(\n",
    "    x=drk_df.loc[drk_df[\"Voltage (V)\"] > 0.3748][\"Voltage (V)\"],\n",
    "    y=drk_df.loc[drk_df[\"Voltage (V)\"] > 0.3748][\"ln(I)\"]\n",
    ")\n",
    "fig3, ax = plt.subplots(figsize=(10, 10))\n",
    "ax.scatter(data=drk_df, x=\"Voltage (V)\", y=\"ln(I)\", color=\"black\")\n",
    "ax.plot(\n",
    "    drk_df.loc[drk_df[\"Voltage (V)\"] > 0.3748][\"Voltage (V)\"],\n",
    "    slope * drk_df.loc[drk_df[\"Voltage (V)\"] > 0.3748][\"Voltage (V)\"] + inter, \n",
    "    color=\"red\"\n",
    ")\n",
    "ax.set_title(\"Fig. 3: ln(I) vs. Voltage with its ajustment\")\n",
    "ax.set_xlabel(\"Voltage (V)\")\n",
    "ax.set_ylabel(\"ln(I)\")\n",
    "plt.legend([\"Darkness\", f\"{round(slope, 2)}V + {round(inter, 2)}\"])\n",
    "plt.show()"
   ]
  },
  {
   "attachments": {},
   "cell_type": "markdown",
   "metadata": {},
   "source": [
    "With the values of the slope (a) and intercept (b), $I_{S}$ and $n$ will be caluclated."
   ]
  },
  {
   "attachments": {},
   "cell_type": "markdown",
   "metadata": {},
   "source": [
    "For $I_{S}$:"
   ]
  },
  {
   "cell_type": "code",
   "execution_count": 9,
   "metadata": {},
   "outputs": [
    {
     "name": "stdout",
     "output_type": "stream",
     "text": [
      "I_s=3.3613586597667936e-08 A\n"
     ]
    }
   ],
   "source": [
    "I_s = np.exp(inter)\n",
    "print(f\"I_s={I_s} A\")"
   ]
  },
  {
   "attachments": {},
   "cell_type": "markdown",
   "metadata": {},
   "source": [
    "Doing a conversion, we have a saturation current of $I_{S}=33.61$ $nA$."
   ]
  },
  {
   "attachments": {},
   "cell_type": "markdown",
   "metadata": {},
   "source": [
    "For $n$:"
   ]
  },
  {
   "cell_type": "code",
   "execution_count": 10,
   "metadata": {},
   "outputs": [
    {
     "name": "stdout",
     "output_type": "stream",
     "text": [
      "n=2.0049891292371247\n"
     ]
    }
   ],
   "source": [
    "kelvin_temp = 25 + 273.15\n",
    "n = (constants.elementary_charge) / ((slope * constants.Boltzmann * kelvin_temp))\n",
    "print(f\"n={n}\")"
   ]
  },
  {
   "attachments": {},
   "cell_type": "markdown",
   "metadata": {},
   "source": [
    "We obtain a ideality factor of $n=2$, so we have a recombination current."
   ]
  },
  {
   "attachments": {},
   "cell_type": "markdown",
   "metadata": {},
   "source": [
    "## Obtaining $I_{SC}$ and $V_{OC}$"
   ]
  },
  {
   "attachments": {},
   "cell_type": "markdown",
   "metadata": {},
   "source": [
    "We can calculate these properties taking the average of the closest values to the \"Voltage (V)\" and \"Current (A)\" axes when the cell is under illumination. We can see these values in Fig. 1."
   ]
  },
  {
   "attachments": {},
   "cell_type": "markdown",
   "metadata": {},
   "source": [
    "Calculating $I_{SC}$:"
   ]
  },
  {
   "cell_type": "code",
   "execution_count": 11,
   "metadata": {},
   "outputs": [
    {
     "name": "stdout",
     "output_type": "stream",
     "text": [
      "I_sc=-0.00412 A\n"
     ]
    }
   ],
   "source": [
    "value_1 = l_df.loc[l_df[\"Voltage (V)\"] == -0.006948][\"Current (A)\"].values[0]\n",
    "value_2 = l_df.loc[l_df[\"Voltage (V)\"] == 0.007107][\"Current (A)\"].values[0]\n",
    "I_sc = (value_1 + value_2) / 2\n",
    "print(f\"I_sc={I_sc} A\")"
   ]
  },
  {
   "attachments": {},
   "cell_type": "markdown",
   "metadata": {},
   "source": [
    "We obtain a short-circuit current of $I_{SC}=4.12$ $mA$. "
   ]
  },
  {
   "attachments": {},
   "cell_type": "markdown",
   "metadata": {},
   "source": [
    "Calculating $V_{OC}$:"
   ]
  },
  {
   "cell_type": "code",
   "execution_count": 12,
   "metadata": {},
   "outputs": [
    {
     "name": "stdout",
     "output_type": "stream",
     "text": [
      "V_oc=0.5799 V\n"
     ]
    }
   ],
   "source": [
    "value_3 = l_df.loc[l_df[\"Voltage (V)\"] == 0.5728][\"Voltage (V)\"].values[0]\n",
    "value_4 = l_df.loc[l_df[\"Voltage (V)\"] == 0.587][\"Voltage (V)\"].values[0]\n",
    "V_oc = (value_3 + value_4) / 2\n",
    "print(f\"V_oc={V_oc} V\")"
   ]
  },
  {
   "attachments": {},
   "cell_type": "markdown",
   "metadata": {},
   "source": [
    "We obtain an open-circuit voltage of $V_{OC}=579.9$ $mV$."
   ]
  },
  {
   "cell_type": "code",
   "execution_count": 13,
   "metadata": {},
   "outputs": [
    {
     "data": {
      "image/png": "[encoded data removed]",
      "text/plain": [
       "<Figure size 1200x1200 with 1 Axes>"
      ]
     },
     "metadata": {},
     "output_type": "display_data"
    }
   ],
   "source": [
    "fig4 = plt.figure(figsize=(12, 12))\n",
    "div = sns.lineplot(\n",
    "    data=d_df,\n",
    "    x=d_df[\"Voltage (V)\"],\n",
    "    y=d_df[\"Current (A)\"],\n",
    "    label=\"Darkness\",\n",
    "    color=\"blue\",\n",
    ")\n",
    "iiv = sns.lineplot(\n",
    "    data=l_df,\n",
    "    x=l_df[\"Voltage (V)\"],\n",
    "    y=l_df[\"Current (A)\"],\n",
    "    label=\"Illumination\",\n",
    "    color=\"red\",\n",
    ")\n",
    "ax = plt.gca()\n",
    "iiv.set_title(\"Fig.4: I-V Characteristic Curves of a Si solar cell in darkness and under light\")\n",
    "plt.annotate(\n",
    "    \"V_oc\", xy=(V_oc, 0), xycoords=\"data\", xytext=(0.63, 0.003),\n",
    "    textcoords=\"data\", arrowprops=dict(arrowstyle=\"wedge\", connectionstyle=\"arc3,rad=0.\")\n",
    ")\n",
    "plt.annotate(\n",
    "    \"I_sc\", xy=(0, I_sc), xycoords=\"data\", xytext=(0.1, -0.0020),\n",
    "    textcoords=\"data\", arrowprops=dict(arrowstyle=\"wedge\", connectionstyle=\"arc3,rad=0.\")\n",
    ")\n",
    "ax.xaxis.set_label_coords(0.5, 0)\n",
    "ax.spines[\"top\"].set_color(\"none\")\n",
    "ax.spines[\"bottom\"].set_position(\"zero\")\n",
    "ax.spines[\"right\"].set_color(\"none\")\n",
    "ax.spines[\"left\"].set_position(\"zero\")\n",
    "plt.show()"
   ]
  },
  {
   "attachments": {},
   "cell_type": "markdown",
   "metadata": {},
   "source": [
    "## Obtaining $P_{mp}$"
   ]
  },
  {
   "attachments": {},
   "cell_type": "markdown",
   "metadata": {},
   "source": [
    "In Fig. 1, when the cell is under illumination, we can see that the maximum power can't belong to the points where $V=0$ or $I=0$. In other words, $P=0$ where $I_{SC}$ and $V_{OC}$ are located, because there is no voltage when we consider $I_{SC}$ and there is no current when we consider $V_{OC}$. To see the point of the maximum power we can multiply the current by a \"-\" sign and then calculate the power."
   ]
  },
  {
   "attachments": {},
   "cell_type": "markdown",
   "metadata": {},
   "source": [
    "Let's calculate the power considering the \"-\" in the current of the cell:"
   ]
  },
  {
   "cell_type": "code",
   "execution_count": 14,
   "metadata": {},
   "outputs": [],
   "source": [
    "lght_df = l_df.copy()\n",
    "lght_df[\"Power (W)\"] = -(lght_df[\"Voltage (V)\"] * lght_df[\"Current (A)\"])"
   ]
  },
  {
   "attachments": {},
   "cell_type": "markdown",
   "metadata": {},
   "source": [
    "Graphing P vs Voltage:"
   ]
  },
  {
   "cell_type": "code",
   "execution_count": 15,
   "metadata": {},
   "outputs": [
    {
     "data": {
      "image/png": "[encoded data removed]",
      "text/plain": [
       "<Figure size 1000x1000 with 1 Axes>"
      ]
     },
     "metadata": {},
     "output_type": "display_data"
    }
   ],
   "source": [
    "fig5, ax = plt.subplots(figsize=(10, 10))\n",
    "power = sns.lineplot(data=lght_df, x=\"Voltage (V)\", y=\"Power (W)\", color=\"red\")\n",
    "plt.title(\"Fig. 5: Power of the cell under illumination in function of the voltage\")\n",
    "plt.legend(labels=[\"Power\"])\n",
    "# Finding the maximum power in the graph\n",
    "x_c = lght_df.loc[lght_df[\"Power (W)\"] == lght_df[\"Power (W)\"].max()][\"Voltage (V)\"].values[0]\n",
    "y_c = lght_df.loc[lght_df[\"Power (W)\"] == lght_df[\"Power (W)\"].max()][\"Power (W)\"].values[0]\n",
    "plt.annotate(\n",
    "    \"\", xy=(x_c, -0.0162), xycoords=\"data\", xytext=(x_c, y_c),\n",
    "    textcoords=\"data\", arrowprops=dict(arrowstyle=\"-\", connectionstyle=\"arc3,rad=0.\")\n",
    ")\n",
    "plt.annotate(\n",
    "    \"\", xy=(-0.77, y_c), xycoords=\"data\", xytext=(x_c, y_c),\n",
    "    textcoords=\"data\", arrowprops=dict(arrowstyle=\"-\", connectionstyle=\"arc3,rad=0.\")\n",
    ")\n",
    "plt.annotate(\n",
    "    \"Maximum Power\", xy=(x_c, y_c), xycoords=\"data\", xytext=(0.2, -0.0020),\n",
    "    textcoords=\"data\", arrowprops=dict(arrowstyle=\"wedge\", connectionstyle=\"arc3,rad=0.\")\n",
    ")\n",
    "ax.spines[\"top\"].set_color(\"none\")\n",
    "ax.spines[\"right\"].set_color(\"none\")\n",
    "plt.show()"
   ]
  },
  {
   "attachments": {},
   "cell_type": "markdown",
   "metadata": {},
   "source": [
    "We can see the maximum power of the cell at the crest of the graph. Thus, we have:"
   ]
  },
  {
   "cell_type": "code",
   "execution_count": 16,
   "metadata": {},
   "outputs": [
    {
     "name": "stdout",
     "output_type": "stream",
     "text": [
      "I_pm=0.003458 A, V_pm=0.4597 V, P_mp=0.0015896426 W\n"
     ]
    }
   ],
   "source": [
    "max_points = lght_df.loc[lght_df[\"Power (W)\"] == lght_df[\"Power (W)\"].max()]\n",
    "I_pm = max_points[\"Current (A)\"].values[0]\n",
    "V_pm = max_points[\"Voltage (V)\"].values[0]\n",
    "P_mp = max_points[\"Power (W)\"].values[0]\n",
    "print(f\"I_pm={-I_pm} A, V_pm={V_pm} V, P_mp={P_mp} W\")"
   ]
  },
  {
   "attachments": {},
   "cell_type": "markdown",
   "metadata": {},
   "source": [
    "We have calculated a maximum current of $I_{pm}=3.46$ $mA$, a maximum voltage of $V_{pm}=459.7$ $mV$ and a maximum power of $P_{mp}=1.59$ $mW$."
   ]
  },
  {
   "attachments": {},
   "cell_type": "markdown",
   "metadata": {},
   "source": [
    "## Obtaining $FF$ and $η$"
   ]
  },
  {
   "attachments": {},
   "cell_type": "markdown",
   "metadata": {},
   "source": [
    "This property will be given by  \n",
    "$FF=\\frac{I_{pm}V_{pm}}{I_{SC}V_{OC}}$  \n",
    "and it must be expressed as a percentage."
   ]
  },
  {
   "attachments": {},
   "cell_type": "markdown",
   "metadata": {},
   "source": [
    "Calculating $FF$:"
   ]
  },
  {
   "cell_type": "code",
   "execution_count": 17,
   "metadata": {},
   "outputs": [
    {
     "name": "stdout",
     "output_type": "stream",
     "text": [
      "FF=66.53484782277494%\n"
     ]
    }
   ],
   "source": [
    "ff = ((I_pm * V_pm) / (I_sc * V_oc)) * 100\n",
    "print(f\"FF={ff}%\")"
   ]
  },
  {
   "attachments": {},
   "cell_type": "markdown",
   "metadata": {},
   "source": [
    "We obtain a fill factor of $FF=66.5$%"
   ]
  },
  {
   "attachments": {},
   "cell_type": "markdown",
   "metadata": {},
   "source": [
    "Altering the current of the cell when it is under illumination with a \"-\" sign:"
   ]
  },
  {
   "cell_type": "code",
   "execution_count": 18,
   "metadata": {},
   "outputs": [],
   "source": [
    "lght_df[\"-Current (A)\"] = -lght_df[\"Current (A)\"]"
   ]
  },
  {
   "attachments": {},
   "cell_type": "markdown",
   "metadata": {},
   "source": [
    "Making a graph with the I-V curve under illumination and the Power vs. Voltage curve for $FF$: "
   ]
  },
  {
   "cell_type": "code",
   "execution_count": 19,
   "metadata": {},
   "outputs": [
    {
     "data": {
      "image/png": "[encoded data removed]",
      "text/plain": [
       "<Figure size 1000x1000 with 1 Axes>"
      ]
     },
     "metadata": {},
     "output_type": "display_data"
    }
   ],
   "source": [
    "fig6 , ax = plt.subplots(figsize=(10, 10))\n",
    "ffplt = sns.lineplot(\n",
    "    data=lght_df.loc[lght_df[\"Power (W)\"] >=0],\n",
    "    x=\"Voltage (V)\", y=\"Power (W)\", label=\"Power\"\n",
    ")\n",
    "mivc = sns.lineplot(\n",
    "    data=lght_df.loc[\n",
    "        (lght_df[\"-Current (A)\"] >= 0) &\n",
    "        (lght_df[\"Voltage (V)\"] >= 0)\n",
    "    ],\n",
    "    x=\"Voltage (V)\",\n",
    "    y=\"-Current (A)\",\n",
    "    color=\"r\",\n",
    "    label=\"I-V Curve\"\n",
    ")\n",
    "ivx_c = lght_df.loc[(lght_df[\"-Current (A)\"] >= 0) & (lght_df[\"Voltage (V)\"] >= 0)][\"Voltage (V)\"].max()\n",
    "ivy_c = lght_df.loc[(lght_df[\"-Current (A)\"] >= 0) & (lght_df[\"Voltage (V)\"] >= 0)][\"-Current (A)\"].max()\n",
    "ax.add_patch(Rectangle((0, 0), x_c, -I_pm, fill=False, hatch=\"/\"))\n",
    "# Adding labels and modifying labels and axes\n",
    "plt.title(\"Fig. 6: I-V Curve and Power vs. Voltage curve for FF under illumination\")\n",
    "plt.annotate(\n",
    "    \"\", xy=(0, ivy_c), xycoords=\"data\",\n",
    "    xytext=(ivx_c, ivy_c),\n",
    "    textcoords=\"data\", arrowprops=dict(arrowstyle=\"-\", connectionstyle=\"arc3,rad=0.\")\n",
    ")\n",
    "plt.annotate(\n",
    "    \"\", xy=(ivx_c, 0), xycoords=\"data\",\n",
    "    xytext=(ivx_c, ivy_c),\n",
    "    textcoords=\"data\", arrowprops=dict(arrowstyle=\"-\", connectionstyle=\"arc3,rad=0.\")\n",
    ")\n",
    "plt.annotate(\n",
    "    \"(V_pm, P_m)\", xy=(x_c, y_c), xycoords=\"data\", xytext=(0.465, 0.0018),\n",
    "    textcoords=\"data\", arrowprops=dict(arrowstyle=\"wedge\", connectionstyle=\"arc3,rad=0.\")\n",
    ")\n",
    "plt.annotate(\n",
    "    \"(V_pm, I_pm)\", xy=(x_c, -I_pm), xycoords=\"data\", xytext=(0.49, 0.0036),\n",
    "    textcoords=\"data\", arrowprops=dict(arrowstyle=\"wedge\", connectionstyle=\"arc3,rad=0.\")\n",
    ")\n",
    "plt.legend(bbox_to_anchor=(0.78, 0.95), loc=\"upper left\")\n",
    "ax.spines[\"top\"].set_color(\"none\")\n",
    "ax.spines[\"bottom\"].set_position(\"zero\")\n",
    "ax.spines[\"right\"].set_color(\"none\")\n",
    "ax.spines[\"left\"].set_position(\"zero\")\n",
    "plt.ylabel(None)\n",
    "plt.show()"
   ]
  },
  {
   "attachments": {},
   "cell_type": "markdown",
   "metadata": {},
   "source": [
    "Now, we will calculate $η$ with  \n",
    "$η=\\frac{P_{mp}}{P_{in}}$  \n",
    "where $P_{in}$ will be determined by the characteristics of the incident light spectrum over the cell and by its area.  \n",
    "It must be expressed as a percentage."
   ]
  },
  {
   "cell_type": "code",
   "execution_count": 20,
   "metadata": {},
   "outputs": [
    {
     "name": "stdout",
     "output_type": "stream",
     "text": [
      "η=9.93526625%\n"
     ]
    }
   ],
   "source": [
    "eta = (P_mp / (0.1 * 0.16)) * 100\n",
    "print(f\"η={eta}%\")"
   ]
  },
  {
   "attachments": {},
   "cell_type": "markdown",
   "metadata": {},
   "source": [
    "We have an efficiency of energy conversion of $η=9.93$%."
   ]
  },
  {
   "attachments": {},
   "cell_type": "markdown",
   "metadata": {},
   "source": [
    "## Obtaining resistances"
   ]
  },
  {
   "attachments": {},
   "cell_type": "markdown",
   "metadata": {},
   "source": [
    "Firstly, we will calculate $R_{CH}$ with  \n"
   ]
  },
  {
   "cell_type": "code",
   "execution_count": 21,
   "metadata": {},
   "outputs": [
    {
     "name": "stdout",
     "output_type": "stream",
     "text": [
      "R_ch=132.93811451706188 Ω\n"
     ]
    }
   ],
   "source": [
    "R_ch = (V_pm) / (-I_pm)\n",
    "print(f\"R_ch={R_ch} Ω\")"
   ]
  },
  {
   "attachments": {},
   "cell_type": "markdown",
   "metadata": {},
   "source": [
    "We have a characteristic resistance of $R_{CH}=132.94$ $Ω$."
   ]
  },
  {
   "attachments": {},
   "cell_type": "markdown",
   "metadata": {},
   "source": [
    "Using the I-V curve of the cell when it is under illumination:"
   ]
  },
  {
   "cell_type": "code",
   "execution_count": 22,
   "metadata": {},
   "outputs": [
    {
     "data": {
      "image/png": "[encoded data removed]",
      "text/plain": [
       "<Figure size 1000x1000 with 1 Axes>"
      ]
     },
     "metadata": {},
     "output_type": "display_data"
    }
   ],
   "source": [
    "fig7, ax = plt.subplots(figsize=(10, 10))\n",
    "char_res = sns.lineplot(\n",
    "    data=lght_df.loc[\n",
    "        (lght_df[\"-Current (A)\"] >= 0) &\n",
    "        (lght_df[\"Voltage (V)\"] >= 0)\n",
    "    ],\n",
    "    x=\"Voltage (V)\",\n",
    "    y=\"-Current (A)\",\n",
    "    color=\"red\",\n",
    "    label=\"I-V Curve (Illumination)\"\n",
    ")\n",
    "\n",
    "plt.title(\"Fig. 7: Characteristic Resistance of the Si solar cell\")\n",
    "plt.ylabel(\"Current (A)\")\n",
    "plt.legend(bbox_to_anchor=(0.62, 0.125), loc=\"upper left\")\n",
    "plt.annotate(\n",
    "    \"\", xy=(0, 0), xycoords=\"data\",\n",
    "    xytext=(x_c, -I_pm),\n",
    "    textcoords=\"data\", arrowprops=dict(arrowstyle=\"-\", connectionstyle=\"arc3,rad=0.\")\n",
    ")\n",
    "plt.annotate(\n",
    "    \"R_CH\", xy=(x_c, -I_pm), xycoords=\"data\",\n",
    "    xytext=(ivx_c, ivy_c + 0.00025),\n",
    "    textcoords=\"data\", arrowprops=dict(arrowstyle=\"-\", connectionstyle=\"arc3,rad=0.\")\n",
    ")\n",
    "plt.annotate(\n",
    "    \"\", xy=(0, ivy_c), xycoords=\"data\",\n",
    "    xytext=(ivx_c, ivy_c),\n",
    "    textcoords=\"data\", arrowprops=dict(arrowstyle=\"-\", connectionstyle=\"arc3,rad=0.\")\n",
    ")\n",
    "plt.annotate(\n",
    "    \"\", xy=(ivx_c, 0), xycoords=\"data\",\n",
    "    xytext=(ivx_c, ivy_c),\n",
    "    textcoords=\"data\", arrowprops=dict(arrowstyle=\"-\", connectionstyle=\"arc3,rad=0.\")\n",
    ")\n",
    "plt.annotate(\n",
    "    \"(V_pm, I_pm)\", xy=(x_c, -I_pm), xycoords=\"data\", xytext=(0.42, 0.00275),\n",
    "    textcoords=\"data\", arrowprops=dict(arrowstyle=\"wedge\", connectionstyle=\"arc3,rad=0.\")\n",
    ")\n",
    "ax.spines[\"top\"].set_color(\"none\")\n",
    "ax.spines[\"bottom\"].set_position(\"zero\")\n",
    "ax.spines[\"right\"].set_color(\"none\")\n",
    "ax.spines[\"left\"].set_position(\"zero\")\n",
    "plt.show()\n"
   ]
  },
  {
   "attachments": {},
   "cell_type": "markdown",
   "metadata": {},
   "source": [
    "Now, we will calculate the series resistance $R_{s}$ and the shunt resistance $R_{sh}$.  \n",
    "For this, we will plot the I-V curve of the cell under illumination and adjust the parts of the curve that present a linear beaviour.  \n",
    "We can look at Fig. 1 to select which parts will be adjusted."
   ]
  },
  {
   "cell_type": "code",
   "execution_count": 23,
   "metadata": {},
   "outputs": [
    {
     "data": {
      "image/png": "[encoded data removed]",
      "text/plain": [
       "<Figure size 1000x1000 with 1 Axes>"
      ]
     },
     "metadata": {},
     "output_type": "display_data"
    }
   ],
   "source": [
    "fig8, ax = plt.subplots(figsize=(10, 10))\n",
    "iliv = sns.lineplot(\n",
    "    data=lght_df,\n",
    "    x=\"Voltage (V)\",\n",
    "    y=\"Current (A)\",\n",
    "    color=\"red\",\n",
    "    label=\"IIlumination\"\n",
    ")\n",
    "\n",
    "# For quadrants III and IV\n",
    "slope1, inter1, r, p, se = linregress(\n",
    "    x=lght_df.loc[\n",
    "        (lght_df[\"Voltage (V)\"] >= -0.1909) &\n",
    "        (lght_df[\"Voltage (V)\"] <= 0.1627)]\n",
    "        [\"Voltage (V)\"],\n",
    "    y=lght_df.loc[\n",
    "        (lght_df[\"Voltage (V)\"] >= -0.1909) &\n",
    "        (lght_df[\"Voltage (V)\"] <= 0.1627)]\n",
    "        [\"Current (A)\"]\n",
    ")\n",
    "\n",
    "ax.plot(\n",
    "    lght_df.loc[\n",
    "        (lght_df[\"Voltage (V)\"] >= -0.1909) &\n",
    "        (lght_df[\"Voltage (V)\"] <= 0.1627)]\n",
    "        [\"Voltage (V)\"],\n",
    "    slope1 * lght_df.loc[\n",
    "        (lght_df[\"Voltage (V)\"] >= -0.1909) &\n",
    "        (lght_df[\"Voltage (V)\"] <= 0.1627)]\n",
    "        [\"Voltage (V)\"] + inter1,\n",
    "    color=\"green\"\n",
    ")\n",
    "\n",
    "plt.annotate(\n",
    "    f\"I={round(slope1, 7)}V + {round(inter1, 5)}\", xy=(0.1, -0.004091),\n",
    "    xycoords=\"data\", xytext=(0.05, -0.003), textcoords=\"data\",\n",
    "    arrowprops=dict(arrowstyle=\"wedge\", connectionstyle=\"arc3,rad=0.\")\n",
    ")\n",
    "\n",
    "# For quadrants I and IV\n",
    "slope2, inter2, r, p, se = linregress(\n",
    "    x=lght_df.loc[\n",
    "        (lght_df[\"Voltage (V)\"] >= 0.5445) &\n",
    "        (lght_df[\"Voltage (V)\"] <= 0.6153)]\n",
    "        [\"Voltage (V)\"],\n",
    "    y=lght_df.loc[\n",
    "        (lght_df[\"Voltage (V)\"] >= 0.5445) &\n",
    "        (lght_df[\"Voltage (V)\"] <= 0.6153)]\n",
    "        [\"Current (A)\"]\n",
    ")\n",
    "\n",
    "ax.plot(\n",
    "    lght_df.loc[\n",
    "        (lght_df[\"Voltage (V)\"] >= 0.5445) &\n",
    "        (lght_df[\"Voltage (V)\"] <= 0.6153)]\n",
    "        [\"Voltage (V)\"],\n",
    "    slope2 * lght_df.loc[\n",
    "        (lght_df[\"Voltage (V)\"] >= 0.5445) &\n",
    "        (lght_df[\"Voltage (V)\"] <= 0.6153)]\n",
    "        [\"Voltage (V)\"] + inter2,\n",
    "    color=\"green\"\n",
    ")\n",
    "\n",
    "plt.annotate(\n",
    "    f\"I={round(slope2, 2)}V + {round(inter2, 2)}\", xy=(0.6011, 0.00219),\n",
    "    xycoords=\"data\", xytext=(0.2, 0.003), textcoords=\"data\",\n",
    "    arrowprops=dict(arrowstyle=\"wedge\", connectionstyle=\"arc3,rad=0.\")\n",
    ")\n",
    "\n",
    "plt.title(\"Fig. 8: R_s and R_sh calculation through slope method in the I-V characteristic curve\")\n",
    "ax.xaxis.set_label_coords(0.5, 0)\n",
    "ax.spines[\"top\"].set_color(\"none\")\n",
    "ax.spines[\"bottom\"].set_position(\"zero\")\n",
    "ax.spines[\"right\"].set_color(\"none\")\n",
    "ax.spines[\"left\"].set_position(\"zero\")\n",
    "plt.legend(bbox_to_anchor=(0.78, 0.95), loc=\"upper right\")\n",
    "plt.show()"
   ]
  },
  {
   "attachments": {},
   "cell_type": "markdown",
   "metadata": {},
   "source": [
    "Taking the inverse of the calculated slopes for each part:"
   ]
  },
  {
   "cell_type": "code",
   "execution_count": 24,
   "metadata": {},
   "outputs": [
    {
     "name": "stdout",
     "output_type": "stream",
     "text": [
      "R_s=13.03 Ω, R_sh=4873.5 Ω\n"
     ]
    }
   ],
   "source": [
    "R_s = 1 / slope2\n",
    "R_sh = 1 / slope1\n",
    "print(f\"R_s={round(R_s, 2)} Ω, R_sh={round(R_sh, 2)} Ω\")"
   ]
  },
  {
   "attachments": {},
   "cell_type": "markdown",
   "metadata": {},
   "source": [
    "We have a value a series resistance of $R_{s}=13.03$ $Ω$ and a shunt resistance of $R_{sh}=4.87$ $kΩ$."
   ]
  },
  {
   "attachments": {},
   "cell_type": "markdown",
   "metadata": {},
   "source": [
    "## Conclusions"
   ]
  },
  {
   "attachments": {},
   "cell_type": "markdown",
   "metadata": {},
   "source": [
    "Solar cells characterization is very important to obtain the electric properties of the material, its behaviour under certain circunstances and it will show the power given.  \n",
    "In this case, the efficiency of the Si solar cell is of $9.93$%. The fill factor has a value of $66.5$%. A maximum power of $1.59$ $mW$ was calculated.The value for the saturation current is $33.61$ $nA$ and for the ideality factor is 2, therefore we have a recombination current. On the other hand, the short-circuit current has a value of $4.12$ $mA$, while the open-circuit voltage is $579.9$ $mV$. The series resistance and shunt resistance values are $13.03$ $Ω$ and $4.87$ $kΩ$, respectively and they will affect the production of current. Finally, the characteristic resistance is $132.94$ $Ω$.  \n",
    "The characteristics of the cell and environment will affect in the obtainment of certain parameters of the cell, some of this parameters will be related to the quality of the material and temperature."
   ]
  }
 ],
 "metadata": {
  "kernelspec": {
   "display_name": ".env",
   "language": "python",
   "name": "python3"
  },
  "language_info": {
   "codemirror_mode": {
    "name": "ipython",
    "version": 3
   },
   "file_extension": ".py",
   "mimetype": "text/x-python",
   "name": "python",
   "nbconvert_exporter": "python",
   "pygments_lexer": "ipython3",
   "version": "3.10.6"
  },
  "orig_nbformat": 4,
  "vscode": {
   "interpreter": {
    "hash": "91fef1f8e3380bedc717e869ff72c8bedb045ffe0e472908caca5c6cc86444bd"
   }
  }
 },
 "nbformat": 4,
 "nbformat_minor": 2
}
